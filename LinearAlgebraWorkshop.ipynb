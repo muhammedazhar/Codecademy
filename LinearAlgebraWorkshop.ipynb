{
  "nbformat": 4,
  "nbformat_minor": 0,
  "metadata": {
    "colab": {
      "provenance": []
    },
    "kernelspec": {
      "name": "python3",
      "display_name": "Python 3"
    },
    "language_info": {
      "name": "python"
    }
  },
  "cells": [
    {
      "cell_type": "markdown",
      "source": [
        "# Basics of Linear Algebra Workshop"
      ],
      "metadata": {
        "id": "tJXeiMgoA8jO"
      }
    },
    {
      "cell_type": "markdown",
      "source": [
        "## Review of Essential Matrix Operations"
      ],
      "metadata": {
        "id": "KUJhXyKnYXwX"
      }
    },
    {
      "cell_type": "code",
      "source": [
        "# Matplotlib is a comprehensive library for creating static, animated, and interactive visualizations in Python.\n",
        "# NumPy is the fundamental package for scientific computing in Python.\n",
        "# SymPy is a Python library for symbolic mathematics.\n",
        "\n",
        "import matplotlib.pyplot as plt\n",
        "import matplotlib.patches as mpatches\n",
        "import numpy as np\n",
        "import sympy as sypy"
      ],
      "metadata": {
        "id": "vbD1lxxXY8p0"
      },
      "execution_count": null,
      "outputs": []
    },
    {
      "cell_type": "markdown",
      "source": [
        "### Matrix Addition\n",
        "Matrix addition is performed element-wise between two matrices of the **same shape**.\n",
        "\n",
        "For matrices $A$ and $B$:\n",
        "$$A = \\begin{bmatrix}\n",
        "1 & 6 \\\\\n",
        "5 & 2\n",
        "\\end{bmatrix}, \\quad\n",
        "B = \\begin{bmatrix}\n",
        "3 & -1 \\\\\n",
        "2 & 4\n",
        "\\end{bmatrix}$$\n",
        "\n",
        "$$C = A + B = \\begin{bmatrix}\n",
        "1+3 & 6+(-1) \\\\\n",
        "5+2 & 2+4\n",
        "\\end{bmatrix} = \\begin{bmatrix}\n",
        "4 & 5 \\\\\n",
        "7 & 6\n",
        "\\end{bmatrix}$$\n",
        "\n",
        "More generally, for two matrices $A$ and $B$ of the same dimensions $m \\times n$, the sum $C = A + B$ is defined as:\n",
        "\n",
        "$$C_{ij} = A_{ij} + B_{ij}$$\n",
        "\n",
        "for all $i = 1, \\ldots, m$ and $j = 1, \\ldots, n$."
      ],
      "metadata": {
        "id": "c9gq7zsxZo-6"
      }
    },
    {
      "cell_type": "code",
      "source": [
        "# Define the matrices A and B\n",
        "A = np.array([[1, 6],\n",
        "              [5, 2],])\n",
        "\n",
        "B = np.array([[3, -1],\n",
        "              [2, 4]])\n",
        "\n",
        "print(f\"Matrix A:\\n{A}\\n\")\n",
        "print(f\"Matrix B:\\n{B}\\n\")"
      ],
      "metadata": {
        "id": "GMkAMZCxcXRd",
        "colab": {
          "base_uri": "https://localhost:8080/"
        },
        "outputId": "74a1ffce-9241-48e9-d6f3-257bb6967930"
      },
      "execution_count": null,
      "outputs": [
        {
          "output_type": "stream",
          "name": "stdout",
          "text": [
            "Matrix A:\n",
            "[[1 6]\n",
            " [5 2]]\n",
            "\n",
            "Matrix B:\n",
            "[[ 3 -1]\n",
            " [ 2  4]]\n",
            "\n"
          ]
        }
      ]
    },
    {
      "cell_type": "code",
      "source": [
        "# Perform matrix addition\n",
        "C = A + B\n",
        "print(f\"Matrix C (A + B):\\n{C}\")"
      ],
      "metadata": {
        "id": "cGCfIXPBdMbL",
        "colab": {
          "base_uri": "https://localhost:8080/"
        },
        "outputId": "bc2fe6cb-5148-42f6-a365-4eb706d31eaa"
      },
      "execution_count": null,
      "outputs": [
        {
          "output_type": "stream",
          "name": "stdout",
          "text": [
            "Matrix C (A + B):\n",
            "[[4 5]\n",
            " [7 6]]\n"
          ]
        }
      ]
    },
    {
      "cell_type": "markdown",
      "source": [
        "### Matrix Multiplication\n",
        "\n",
        "Matrix multiplication is performed between two matrices where the number of columns in the first matrix equals the number of rows in the second matrix.\n",
        "\n",
        "For matrices $A$ and $B$:\n",
        "\n",
        "$$A = \\begin{bmatrix}\n",
        "1 & 6 \\\\\n",
        "5 & 2\n",
        "\\end{bmatrix}, \\quad\n",
        "B = \\begin{bmatrix}\n",
        "3 & -1 \\\\\n",
        "2 & 4\n",
        "\\end{bmatrix}$$\n",
        "\n",
        "Their product $C = A \\times B$ is:\n",
        "\n",
        "$$C = A \\times B = \\begin{bmatrix}\n",
        "(1 \\times 3 + 6 \\times 2) & (1 \\times (-1) + 6 \\times 4) \\\\\n",
        "(5 \\times 3 + 2 \\times 2) & (5 \\times (-1) + 2 \\times 4)\n",
        "\\end{bmatrix} = \\begin{bmatrix}\n",
        "15 & 23 \\\\\n",
        "19 & 3\n",
        "\\end{bmatrix}$$\n",
        "\n",
        "More generally, for two matrices $A$ (m × n) and $B$ (n × p), the product $C = A \\times B$ (m × p) is defined as:\n",
        "\n",
        "$$C_{ij} = \\sum_{k=1}^n A_{ik} \\times B_{kj}$$\n",
        "for all $i = 1, \\ldots, m$ and $j = 1, \\ldots, p$.\n",
        "\n",
        "Now, let's implement this in Python:"
      ],
      "metadata": {
        "id": "Q7VtVRhvkya0"
      }
    },
    {
      "cell_type": "code",
      "source": [
        "# Define the matrices A and B\n",
        "A = np.array([[1, 6],\n",
        "              [5, 2]])\n",
        "\n",
        "B = np.array([[3, -1],\n",
        "              [2, 4]])\n",
        "\n",
        "print(f\"Matrix A:\\n{A}\\n\")\n",
        "print(f\"Matrix B:\\n{B}\\n\")\n",
        "\n",
        "# Perform matrix multiplication\n",
        "C = np.dot(A, B)\n",
        "print(f\"Matrix C (AxB):\\n{C}\")"
      ],
      "metadata": {
        "id": "3eO9T6LklPJ7",
        "colab": {
          "base_uri": "https://localhost:8080/"
        },
        "outputId": "e19f0489-a774-4b93-f607-65222e937f4c"
      },
      "execution_count": null,
      "outputs": [
        {
          "output_type": "stream",
          "name": "stdout",
          "text": [
            "Matrix A:\n",
            "[[1 6]\n",
            " [5 2]]\n",
            "\n",
            "Matrix B:\n",
            "[[ 3 -1]\n",
            " [ 2  4]]\n",
            "\n",
            "Matrix C (AxB):\n",
            "[[15 23]\n",
            " [19  3]]\n"
          ]
        }
      ]
    },
    {
      "cell_type": "markdown",
      "source": [
        "### The Determinant\n",
        "\n",
        "The determinant is a scalar value that can be computed from the elements of a square matrix. It has many important applications in linear algebra.\n",
        "\n",
        "For a 3x3 matrix $A$:\n",
        "$$A = \\begin{bmatrix}\n",
        "a & b & c \\\\\n",
        "d & e & f \\\\\n",
        "g & h & i\n",
        "\\end{bmatrix}$$\n",
        "\n",
        "The determinant can be calculated using the Laplace expansion along the first row:\n",
        "\n",
        "$$det(A) = a(ei-fh) - b(di-fg) + c(dh-eg)$$\n",
        "\n",
        "**Note:**\n",
        "1. |det(A)| > 1 means the transformation expands the area/volume\n",
        "2. |det(A)| < 1 means the transformation contracts the area/volume\n",
        "3. |det(A)| = 1 means the transformation preserves the area/volume\n",
        "\n",
        "For our example, let's use the matrix:\n",
        "$$A = \\begin{bmatrix}\n",
        "1 & 2 & 3 \\\\\n",
        "4 & 5 & 6 \\\\\n",
        "7 & 8 & 0\n",
        "\\end{bmatrix}$$"
      ],
      "metadata": {
        "id": "F0fZCw7Kmke7"
      }
    },
    {
      "cell_type": "code",
      "source": [
        "# Define the 3x3 matrix A\n",
        "A = np.array([[1, 2, 3],\n",
        "              [4, 5, 6],\n",
        "              [7, 8, 0]])\n",
        "\n",
        "print(f\"Matrix A:\\n{A}\\n\")\n",
        "\n",
        "# Compute the determinant using NumPy\n",
        "det_A = np.linalg.det(A)\n",
        "print(f\"Determinant of A: {det_A}\")\n",
        "\n",
        "# What does determinant of 0 mean?"
      ],
      "metadata": {
        "id": "WbEXGtx3oAKU",
        "colab": {
          "base_uri": "https://localhost:8080/"
        },
        "outputId": "554fbe55-4357-4d3b-c864-04b8acc829ea"
      },
      "execution_count": null,
      "outputs": [
        {
          "output_type": "stream",
          "name": "stdout",
          "text": [
            "Matrix A:\n",
            "[[1 2 3]\n",
            " [4 5 6]\n",
            " [7 8 0]]\n",
            "\n",
            "Determinant of A: 27.0\n"
          ]
        }
      ]
    },
    {
      "cell_type": "markdown",
      "source": [
        "### Gaussian Elimination"
      ],
      "metadata": {
        "id": "CMFiT3S57kDD"
      }
    },
    {
      "cell_type": "markdown",
      "source": [
        "Let's solve the following system of linear equations using Gaussian elimination:\n",
        "\n",
        "$$\n",
        "\\begin{cases}\n",
        "2x + 3y = 8 \\\\\n",
        "4x + 5y = 14\n",
        "\\end{cases}\n",
        "$$\n",
        "\n",
        "#### Step 1: Create the augmented matrix\n",
        "\n",
        "First, we write the system as an augmented matrix:\n",
        "\n",
        "$$\n",
        "\\begin{bmatrix}\n",
        "2 & 3 & | & 8 \\\\\n",
        "4 & 5 & | & 14\n",
        "\\end{bmatrix}\n",
        "$$\n",
        "\n",
        "#### Step 2: Eliminate the variable in the lower-left corner\n",
        "\n",
        "We'll multiply the first row by -2 and add it to the second row:\n",
        "\n",
        "$$\n",
        "\\begin{aligned}\n",
        "R_2 &= R_2 + (-2)R_1 \\\\\n",
        "&= \\begin{bmatrix}4 & 5 & | & 14\\end{bmatrix} + (-2)\\begin{bmatrix}2 & 3 & | & 8\\end{bmatrix} \\\\\n",
        "&= \\begin{bmatrix}0 & -1 & | & -2\\end{bmatrix}\n",
        "\\end{aligned}\n",
        "$$\n",
        "\n",
        "Now our matrix looks like this:\n",
        "\n",
        "$$\n",
        "\\begin{bmatrix}\n",
        "2 & 3 & | & 8 \\\\\n",
        "0 & -1 & | & -2\n",
        "\\end{bmatrix}\n",
        "$$\n",
        "\n",
        "#### Step 3: Back-substitution\n",
        "\n",
        "From the second row, we can find y:\n",
        "\n",
        "$$\n",
        "-y = -2 \\implies y = 2\n",
        "$$\n",
        "\n",
        "Substituting this into the first equation:\n",
        "\n",
        "$$\n",
        "\\begin{aligned}\n",
        "2x + 3(2) &= 8 \\\\\n",
        "2x + 6 &= 8 \\\\\n",
        "2x &= 2 \\\\\n",
        "x &= 1\n",
        "\\end{aligned}\n",
        "$$\n",
        "\n",
        "#### Solution\n",
        "\n",
        "Therefore, the unique solution to the system is:\n",
        "\n",
        "$$\n",
        "x = 1, \\quad y = 2\n",
        "$$"
      ],
      "metadata": {
        "id": "pQv6GAR2-oy5"
      }
    },
    {
      "cell_type": "markdown",
      "source": [
        "## Eigenvalues & Eigenvectors"
      ],
      "metadata": {
        "id": "9TkziLYxA7Un"
      }
    },
    {
      "cell_type": "markdown",
      "source": [
        "Eigenvalues and eigenvectors are fundamental concepts in linear algebra that help us understand the behavior of linear transformations and matrices. Eigenvalues and eigenvectors have countless highly impactful applications, including:\n",
        "\n",
        "**Definition:** Eigenvectors are special vectors that, when transformed by a matrix, only change in scale (stretched or compressed) but not in direction. The corresponding scaling factors are called eigenvalues.\n",
        "\n",
        "* **Google's PageRank algorithm (early versions):**\n",
        "  * Used the largest eigenvector of the internet's graph to rank web pages.\n",
        "* **Data Compression:**\n",
        "  * Useful when the number of features is much larger than the number of samples.\n",
        "  * Ex: User recommendation system.\n",
        "* **Dimensionality Reduction:**\n",
        "  * Useful when the number of samples is much larger than the number of features.\n",
        "  * Ex: Seasonality of time series.\n",
        "* **Special Relativity and the Lorentz Transform:**\n",
        "  * \"Light is an eigenvector of the Lorentz transform.\" - Einstein\n",
        "\n",
        "**And SO much more!**\n",
        "\n",
        "In this notebook, we'll explore the mathematical foundations, calculation, and common operations of eigenvalues and eigenvectors, along with a visual example. This will give you a foundation that applies in countless situations whether it's visualizing data or extracting its most essential features!"
      ],
      "metadata": {
        "id": "EVkrLjgIc5Qc"
      }
    },
    {
      "cell_type": "markdown",
      "source": [
        "### Mathematical Notation"
      ],
      "metadata": {
        "id": "QelXTbYRcnHE"
      }
    },
    {
      "cell_type": "markdown",
      "source": [
        "**Definition:** An eigenvector of a matrix is a non-zero vector that, when multiplied by the matrix, results in a scalar multiple of itself. The scalar value by which the eigenvector is scaled is called the eigenvalue associated with that eigenvector.\n",
        "\n",
        "In mathematical notation, we can represent this as follows:\n",
        "\n",
        "Let $A$ be a square matrix and $\\vec{v}$ be a non-zero vector. If there exists a scalar $\\lambda$ (the eigenvalue) such that:\n",
        "\n",
        "\\begin{equation}\n",
        "A \\cdot \\vec{v} = \\lambda \\cdot \\vec{v}\n",
        "\\end{equation}\n",
        "\n",
        "then $v$ is an *eigenvector* of the matrix $A$ with the corresponding *eigenvalue* $\\lambda$.\n",
        "\n",
        "**How to solve for eigenvectors / eigenvalues:**\n",
        "\n",
        "Given the matrix $A$, we want to find the values for $\\lambda$ and the vector $v$ that satisfy the equation $A \\cdot \\vec{v} = \\lambda \\cdot \\vec{v}$.\n",
        "\n",
        "1. We can rewrite $\\lambda \\cdot \\vec{v}$ as a matrix multiplication:\n",
        "  \n",
        "  $\\lambda \\cdot \\vec{v} = \\lambda \\cdot I \\cdot \\vec{v}$\n",
        "  \n",
        "  where $I$ is the identity matrix with the same dimensions as $A$. Now, we can factor out $\\lambda \\cdot I$:\n",
        "\n",
        "  $A \\cdot \\vec{v} = \\lambda \\cdot I \\cdot \\vec{v}$\n",
        "\n",
        "2. Subtracting $\\lambda \\cdot I \\cdot \\vec{v}$ from both sides, we get the standard eigenvalue - eigenvector equation:\n",
        "\n",
        "  $(A - \\lambda \\cdot I) \\cdot \\vec{v} = 0$\n",
        "\n",
        "3. Let's consider a 3x3 matrix $A$:\n",
        "\n",
        "  $$A = \\begin{bmatrix}\n",
        "  a_{11} & a_{12} & a_{13} \\\\\n",
        "  a_{21} & a_{22} & a_{23} \\\\\n",
        "  a_{31} & a_{32} & a_{33}\n",
        "  \\end{bmatrix}$$\n",
        "\n",
        "  The identity matrix $I$ for a 3x3 matrix is:\n",
        "\n",
        "  $$I = \\begin{bmatrix}\n",
        "  1 & 0 & 0 \\\\\n",
        "  0 & 1 & 0 \\\\\n",
        "  0 & 0 & 1\n",
        "  \\end{bmatrix}$$\n",
        "\n",
        "  Now, the matrix $A - \\lambda \\cdot I$ looks like:\n",
        "\n",
        "  $$A - \\lambda \\cdot I = \\begin{bmatrix}\n",
        "  a_{11} & a_{12} & a_{13} \\\\\n",
        "  a_{21} & a_{22} & a_{23} \\\\\n",
        "  a_{31} & a_{32} & a_{33}\n",
        "  \\end{bmatrix} - \\lambda \\cdot \\begin{bmatrix}\n",
        "  1 & 0 & 0 \\\\\n",
        "  0 & 1 & 0 \\\\\n",
        "  0 & 0 & 1\n",
        "  \\end{bmatrix}$$\n",
        "\n",
        "  Performing the matrix addition math, we get:\n",
        "\n",
        "  $$A - \\lambda \\cdot I = \\begin{bmatrix}\n",
        "  a_{11} - \\lambda & a_{12} & a_{13} \\\\\n",
        "  a_{21} & a_{22} - \\lambda & a_{23} \\\\\n",
        "  a_{31} & a_{32} & a_{33} - \\lambda\n",
        "  \\end{bmatrix}$$\n",
        "\n",
        "  \\\n",
        "\n",
        "4. We are looking for a non-zero vector $\\vec{v}$ such that $(A - \\lambda \\cdot I) \\cdot \\vec{v} = 0$. To find non-trivial solutions for $\\vec{v}$, we introduce the determinant.\n",
        "\n",
        "5. The determinant of a square matrix is a scalar value that can be computed from the entries of the matrix. For the equation $(A - \\lambda \\cdot I) \\cdot \\vec{v} = 0$ to have non-zero solutions for $\\vec{v}$, the determinant of $A - \\lambda \\cdot I$ must be equal to zero:\n",
        "\n",
        "  $\\det(A - \\lambda \\cdot I) = 0$.\n",
        "  \n",
        "  This equation is called the characteristic equation of the matrix $A$."
      ],
      "metadata": {
        "id": "W0skUMzEc8Gh"
      }
    },
    {
      "cell_type": "markdown",
      "source": [
        "### Working with Eigenvalues and Eigenvectors using Python"
      ],
      "metadata": {
        "id": "8p85uLUT-fTf"
      }
    },
    {
      "cell_type": "markdown",
      "source": [
        "  $$A = \\begin{bmatrix}\n",
        "  1 & 2 & 1 \\\\\n",
        "  6 & -1 & 0 \\\\\n",
        "  -1 & -2 & -1\n",
        "  \\end{bmatrix}$$\n",
        "\n",
        "First: Set up the characteristic equation.\n",
        "$$det(A - \\lambda I) = 0$$\n",
        "\n",
        "$$det(\\begin{bmatrix}\n",
        "  1 & 2 & 1 \\\\\n",
        "  6 & -1 & 0 \\\\\n",
        "  -1 & -2 & -1\n",
        "  \\end{bmatrix} -\n",
        "  \\begin{bmatrix}\n",
        "  \\lambda & 0 & 0 \\\\\n",
        "  0 & \\lambda & 0 \\\\\n",
        "  0 & 0 & \\lambda\n",
        "  \\end{bmatrix}) = 0$$\n",
        "\n",
        "$$det(\\begin{bmatrix}\n",
        "  1-\\lambda & 2 & 1 \\\\\n",
        "  6 & -1-\\lambda & 0 \\\\\n",
        "  -1 & -2 & -1-\\lambda\n",
        "  \\end{bmatrix}) = 0$$"
      ],
      "metadata": {
        "id": "zxBgDdvI-351"
      }
    },
    {
      "cell_type": "code",
      "source": [
        "# Create the characteristic equation\n",
        "A = sypy.Matrix([[1, 2, 1],\n",
        "               [6, -1, 0],\n",
        "               [-1, -2, -1]])"
      ],
      "metadata": {
        "id": "Yf9aIZQd-88B"
      },
      "execution_count": null,
      "outputs": []
    },
    {
      "cell_type": "markdown",
      "source": [
        "Expand the determinant and simplify.\n",
        "\n",
        "\\begin{align*}\n",
        "0 &= det(\\begin{bmatrix}\n",
        "1-\\lambda & 2 & 1 \\\\\n",
        "6 & -1-\\lambda & 0 \\\\\n",
        "-1 & -2 & -1-\\lambda\n",
        "\\end{bmatrix}) \\\\\n",
        "&= (1-\\lambda) det(\\begin{bmatrix}\n",
        "-1-\\lambda & 0 \\\\\n",
        "-2 & -1-\\lambda\n",
        "\\end{bmatrix}) -\n",
        "(2) det(\\begin{bmatrix}\n",
        "6 & 0 \\\\\n",
        "-1 & -1-\\lambda\n",
        "\\end{bmatrix}) +\n",
        "(1) det(\\begin{bmatrix}\n",
        "6 & -1-\\lambda \\\\\n",
        "-1 & -2\n",
        "\\end{bmatrix})\\\\\n",
        "&= (1-\\lambda)((-1-\\lambda)^2-0) - (2)(6(-1-\\lambda)-0) + (1)(-12 - (-1)(-1-\\lambda))\\\\\n",
        "&= \\lambda^3 + \\lambda^2 - 12\\lambda\n",
        "\\end{align*}"
      ],
      "metadata": {
        "id": "nFJrpKXi_ejL"
      }
    },
    {
      "cell_type": "code",
      "source": [
        "# Solve the characteristic equation"
      ],
      "metadata": {
        "id": "Qd5fp5nZ_p1f"
      },
      "execution_count": null,
      "outputs": []
    },
    {
      "cell_type": "markdown",
      "source": [
        "We want the determinant to equal zero, so we have:\n",
        "\n",
        "$$\\lambda^3 + \\lambda^2 - 12\\lambda = 0 \\\\\n",
        "-\\lambda(\\lambda + 4)(\\lambda - 3) = 0$$\n",
        "\n",
        "Solving for the roots, we get:\n",
        "\n",
        "$$\n",
        "\\lambda_{1} = 0 \\\\\n",
        "\\lambda_{2} = -4 \\\\\n",
        "\\lambda_{3} = 3\n",
        "$$"
      ],
      "metadata": {
        "id": "39pMQlUzLGY9"
      }
    },
    {
      "cell_type": "code",
      "source": [
        "# Solve for the eigenvalues"
      ],
      "metadata": {
        "id": "-orNBT3l_zOo"
      },
      "execution_count": null,
      "outputs": []
    },
    {
      "cell_type": "markdown",
      "source": [
        "### Solve for Eigenvectors using Gaussian Elimination"
      ],
      "metadata": {
        "id": "7pMDZcDsJJ9A"
      }
    },
    {
      "cell_type": "markdown",
      "source": [
        "For the matrix:\n",
        "\n",
        "$$A = \\begin{bmatrix}\n",
        "1 & 2 & 1 \\\\\n",
        "6 & -1 & 0 \\\\\n",
        "-1 & -2 & -1\n",
        "\\end{bmatrix}$$\n",
        "\n",
        "We'll find the eigenvector for $\\lambda = 3$.\n",
        "\n",
        "Solve $(A - 3I)\\vec{v} = 0$:\n",
        "\n",
        "$$\\begin{bmatrix}\n",
        "-2 & 2 & 1 \\\\\n",
        "6 & -4 & 0 \\\\\n",
        "-1 & -2 & -4\n",
        "\\end{bmatrix}\\begin{bmatrix}\n",
        "v_1 \\\\\n",
        "v_2 \\\\\n",
        "v_3\n",
        "\\end{bmatrix} = \\begin{bmatrix}\n",
        "0 \\\\\n",
        "0 \\\\\n",
        "0\n",
        "\\end{bmatrix}$$\n",
        "\n",
        "An eigenvector corresponding to $\\lambda = 3$ is $\\vec{v} = \\begin{bmatrix} -1 \\\\ -3/2 \\\\ 1 \\end{bmatrix}$."
      ],
      "metadata": {
        "id": "IGgZ9wS0_34W"
      }
    },
    {
      "cell_type": "code",
      "source": [
        "# Calculate the eigenvectors"
      ],
      "metadata": {
        "id": "ji4CBv8hSEjR"
      },
      "execution_count": null,
      "outputs": []
    },
    {
      "cell_type": "code",
      "source": [
        "# numpy linear algebra library version:"
      ],
      "metadata": {
        "id": "HgAxOTzEUcNX"
      },
      "execution_count": null,
      "outputs": []
    },
    {
      "cell_type": "markdown",
      "source": [
        "### Visual Interpretation"
      ],
      "metadata": {
        "id": "tyaDo9XnVoMq"
      }
    },
    {
      "cell_type": "markdown",
      "source": [
        "Let's see a visual example of what's going on. Here's our starting matrix:\n",
        "\n",
        "$$A =\n",
        "\\begin{bmatrix}\n",
        "1 & 6 \\\\\n",
        "5 & 2\n",
        "\\end{bmatrix}$$\n",
        "\n",
        "Solving for the characteristic equation $det(A - \\lambda I)=0$ using Python:"
      ],
      "metadata": {
        "id": "odP9j-EIopBP"
      }
    },
    {
      "cell_type": "code",
      "source": [
        "A = sypy.Matrix([[1, 6],\n",
        "               [5, 2]])\n",
        "\n",
        "# Solve for the eigenvalues and eigenvectors"
      ],
      "metadata": {
        "id": "UQAKBx79pK-q"
      },
      "execution_count": null,
      "outputs": []
    },
    {
      "cell_type": "markdown",
      "source": [
        "#### Using Matplotlib to Visualize Transformation"
      ],
      "metadata": {
        "id": "a2sgMFF9rgZa"
      }
    },
    {
      "cell_type": "code",
      "source": [
        "# Create a new figure and axis with a size of 8 inches by 8 inches\n",
        "fig, ax = plt.subplots(figsize=(8, 8))\n",
        "\n",
        "# Define an array of arrow coordinates and components\n",
        "arrows = np.array([[[0, 0, 1, 1]],\n",
        "                   [[0, 0, 0, 1]],\n",
        "                   [[0, 0, -6/5, 1]]])\n",
        "\n",
        "# Define a list of colors for the arrows\n",
        "colors = ['darkorange', 'darkgreen', 'skyblue']\n",
        "\n",
        "# Iterate over each row of the arrows array\n",
        "for i, arrow in enumerate(arrows):\n",
        "    # Unpack the coordinates and components of the current arrow\n",
        "    x, y, u, v = arrow[0]\n",
        "\n",
        "    # Draw the arrow on the plot\n",
        "    ax.arrow(x, y, u, v, color=colors[i], width=.08,\n",
        "             length_includes_head=True,\n",
        "             head_width=.2,\n",
        "             head_length=.3,\n",
        "             overhang=0, zorder=-i)\n",
        "\n",
        "# Set the limits of the x-axis and y-axis\n",
        "ax.axis([-3, 3.1, -3.1, 3.1])\n",
        "\n",
        "# Move the left and bottom spines to the center of the plot\n",
        "ax.spines['left'].set_position('center')\n",
        "ax.spines['bottom'].set_position('center')\n",
        "\n",
        "# Remove the right and top spines\n",
        "ax.spines['right'].set_color('none')\n",
        "ax.spines['top'].set_color('none')\n",
        "\n",
        "# Set the position of the x-axis and y-axis ticks\n",
        "ax.xaxis.set_ticks_position('bottom')\n",
        "ax.yaxis.set_ticks_position('left')\n",
        "\n",
        "# Enable minor ticks on the axes\n",
        "ax.minorticks_on()\n",
        "\n",
        "# Add a grid to the plot\n",
        "ax.grid()\n",
        "\n",
        "# Display the plot\n",
        "plt.show()"
      ],
      "metadata": {
        "id": "MDRwrcgpvNqQ"
      },
      "execution_count": null,
      "outputs": []
    },
    {
      "cell_type": "code",
      "source": [
        "# Repeat the steps above\n",
        "fig, ax = plt.subplots(figsize = (8, 8))\n",
        "arrows = np.array([ [[0,0,1,1]],\n",
        "                   [[0,0,0,1]],\n",
        "                  [[0,0,-6/5,1]]])\n",
        "colors = ['darkorange','darkgreen','skyblue']\n",
        "for i, arrow in enumerate(arrows):\n",
        "    x, y, u, v = arrow[0]\n",
        "\n",
        "    ax.arrow(x, y, u, v, color=colors[i], width=.08,\n",
        "             length_includes_head=True,\n",
        "             head_width=.2,\n",
        "             head_length=.3,\n",
        "             overhang=0, zorder=-i)\n",
        "\n",
        "################################### Eigenspace #################################\n",
        "x = np.arange(-10, 10.6, .5)\n",
        "y = x\n",
        "ax.plot(x, y, lw = 3, color = 'red', alpha = .5, label = 'Eigenspace for $\\lambda = 7$')\n",
        "\n",
        "x = np.arange(-10, 10.6, .5)\n",
        "y = -5/6*x\n",
        "ax.plot(x, y, lw = 3, color = 'blue', alpha = .5,  label = 'Eigenspace for $\\lambda = -4$')\n",
        "\n",
        "############################ Legend ###############################\n",
        "\n",
        "leg = ax.legend(fontsize = 15, loc = 'lower right')\n",
        "leg.get_frame().set_alpha(0.5)\n",
        "\n",
        "###################### Axis, Spines, Ticks ##########################\n",
        "ax.axis([-3, 3.1, -3.1, 3.1])\n",
        "ax.spines['left'].set_position('center')\n",
        "ax.spines['right'].set_color('none')\n",
        "ax.spines['bottom'].set_position('center')\n",
        "ax.spines['top'].set_color('none')\n",
        "ax.xaxis.set_ticks_position('bottom')\n",
        "ax.yaxis.set_ticks_position('left')\n",
        "\n",
        "ax.minorticks_on()\n",
        "ax.grid()\n",
        "plt.show()"
      ],
      "metadata": {
        "id": "aM830L8FWwz3"
      },
      "execution_count": null,
      "outputs": []
    },
    {
      "cell_type": "code",
      "source": [
        "# Repeat the steps to plot the arrows once more, but with transformations\n",
        "fig, ax = plt.subplots(figsize = (8, 8))\n",
        "arrows = np.array([ [[0,0,1,1]],\n",
        "                    [[0,0,-6/5,1]],\n",
        "                    [[0,0,0,1]], # Add a vector that is not an eigenvector\n",
        "                    [[0,0,7,7]],\n",
        "                    [[0,0,24/5,-4]],\n",
        "                    [[0,0,6,2]]]) # This is the resulting transformed vector\n",
        "colors = ['darkorange','skyblue','lightgreen','r','b','g']\n",
        "for i, arrow in enumerate(arrows):\n",
        "    x, y, u, v = arrow[0]\n",
        "\n",
        "    ax.arrow(x, y, u, v, color=colors[i], width=.1,\n",
        "             length_includes_head=True,\n",
        "             head_width=.3,\n",
        "             head_length=.3,\n",
        "             overhang=0, zorder=-i)\n",
        "\n",
        "################################### Eigenspace #################################\n",
        "x = np.arange(-10, 10.6, .5)\n",
        "y = x\n",
        "ax.plot(x, y, lw = 3, color = 'red', alpha = .3, label = 'Eigenspace for $\\lambda = 7$')\n",
        "\n",
        "x = np.arange(-10, 10.6, .5)\n",
        "y = -5/6*x\n",
        "ax.plot(x, y, lw = 3, color = 'blue', alpha = .3,  label = 'Eigenspace for $\\lambda = -4$')\n",
        "\n",
        "######################## Annotation Arrows ################################\n",
        "\n",
        "style=\"Simple, tail_width=0.5, head_width=5, head_length=10\"\n",
        "kw = dict(arrowstyle=style, color=\"k\")\n",
        "\n",
        "a = mpatches.FancyArrowPatch((1,1), (7,7),connectionstyle=\"arc3,rad=.4\", **kw, alpha = .3)\n",
        "plt.gca().add_patch(a)\n",
        "\n",
        "a = mpatches.FancyArrowPatch((-6/5,1), (24/5,-4),connectionstyle=\"arc3,rad=.4\", **kw, alpha = .3)\n",
        "plt.gca().add_patch(a)\n",
        "\n",
        "############################ Legend ###############################\n",
        "\n",
        "leg = ax.legend(fontsize = 15, loc = 'lower right')\n",
        "leg.get_frame().set_alpha(0.5)\n",
        "\n",
        "###################### Axis, Spines, Ticks ##########################\n",
        "ax.axis([-10, 10.1, -10.1, 10.1])\n",
        "ax.spines['left'].set_position('center')\n",
        "ax.spines['right'].set_color('none')\n",
        "ax.spines['bottom'].set_position('center')\n",
        "ax.spines['top'].set_color('none')\n",
        "ax.xaxis.set_ticks_position('bottom')\n",
        "ax.yaxis.set_ticks_position('left')\n",
        "\n",
        "ax.minorticks_on()\n",
        "ax.grid()\n",
        "plt.show()"
      ],
      "metadata": {
        "id": "BZmmKLCoWMGy"
      },
      "execution_count": null,
      "outputs": []
    },
    {
      "cell_type": "markdown",
      "source": [
        "## Resources"
      ],
      "metadata": {
        "id": "HpEKKKZ-arvq"
      }
    },
    {
      "cell_type": "markdown",
      "source": [
        "1. [3Blue1Brown - Essence of Linear Algebra on YouTube](https://youtu.be/fNk_zzaMoSs?si=XU5aRSySd0VPpMV5)\n",
        "2. Codecademy!\n",
        "  1. https://www.codecademy.com/learn/learn-python-3\n",
        "  2. https://www.codecademy.com/learn/paths/fundamental-math-for-data-science\n",
        "  3. https://www.codecademy.com/catalog/subject/data-science\n",
        "  4. https://www.codecademy.com/catalog/subject/machine-learning\n",
        "  5. https://www.codecademy.com/catalog/subject/artificial-intelligence\n",
        "  6. https://www.codecademy.com/catalog/subject/data-visualization\n",
        "3. [Mathematics for Machine Learning - Free PDF](https://mml-book.github.io/)\n",
        "4. https://medium.com/@israel-miles"
      ],
      "metadata": {
        "id": "bOi0Yr-acUtf"
      }
    }
  ]
}